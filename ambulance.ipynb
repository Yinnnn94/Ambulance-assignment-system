{
 "cells": [
  {
   "cell_type": "markdown",
   "id": "39805a40",
   "metadata": {},
   "source": [
    "## 下載folium套件"
   ]
  },
  {
   "cell_type": "code",
   "execution_count": 1,
   "id": "b0d9bd84",
   "metadata": {},
   "outputs": [
    {
     "name": "stdout",
     "output_type": "stream",
     "text": [
      "Requirement already satisfied: folium in c:\\users\\user\\anaconda3\\lib\\site-packages (0.12.1.post1)\n",
      "Requirement already satisfied: branca>=0.3.0 in c:\\users\\user\\anaconda3\\lib\\site-packages (from folium) (0.4.2)\n",
      "Requirement already satisfied: numpy in c:\\users\\user\\anaconda3\\lib\\site-packages (from folium) (1.20.1)\n",
      "Requirement already satisfied: requests in c:\\users\\user\\anaconda3\\lib\\site-packages (from folium) (2.25.1)\n",
      "Requirement already satisfied: jinja2>=2.9 in c:\\users\\user\\anaconda3\\lib\\site-packages (from folium) (2.11.3)\n",
      "Requirement already satisfied: MarkupSafe>=0.23 in c:\\users\\user\\anaconda3\\lib\\site-packages (from jinja2>=2.9->folium) (1.1.1)\n",
      "Requirement already satisfied: certifi>=2017.4.17 in c:\\users\\user\\anaconda3\\lib\\site-packages (from requests->folium) (2021.10.8)\n",
      "Requirement already satisfied: urllib3<1.27,>=1.21.1 in c:\\users\\user\\anaconda3\\lib\\site-packages (from requests->folium) (1.26.4)\n",
      "Requirement already satisfied: chardet<5,>=3.0.2 in c:\\users\\user\\anaconda3\\lib\\site-packages (from requests->folium) (4.0.0)\n",
      "Requirement already satisfied: idna<3,>=2.5 in c:\\users\\user\\anaconda3\\lib\\site-packages (from requests->folium) (2.10)\n",
      "Note: you may need to restart the kernel to use updated packages.\n"
     ]
    }
   ],
   "source": [
    "pip install folium "
   ]
  },
  {
   "cell_type": "code",
   "execution_count": 2,
   "id": "5beee528",
   "metadata": {},
   "outputs": [],
   "source": [
    "from selenium import webdriver\n",
    "import folium\n",
    "import time"
   ]
  },
  {
   "cell_type": "code",
   "execution_count": 3,
   "id": "abda2a70",
   "metadata": {},
   "outputs": [
    {
     "name": "stderr",
     "output_type": "stream",
     "text": [
      "<ipython-input-3-de26348dfbe1>:2: DeprecationWarning: executable_path has been deprecated, please pass in a Service object\n",
      "  browser=webdriver.Chrome(driver_path)\n",
      "<ipython-input-3-de26348dfbe1>:7: DeprecationWarning: find_elements_by_* commands are deprecated. Please use find_elements() instead\n",
      "  location=browser.find_elements_by_xpath('//tbody/tr/td[4]') #將地點擷取下來\n",
      "<ipython-input-3-de26348dfbe1>:8: DeprecationWarning: find_elements_by_* commands are deprecated. Please use find_elements() instead\n",
      "  type_=browser.find_elements_by_xpath('//*[@id=\"dataTable\"]/tbody/tr/td[3]') #將案件類型擷取下來\n"
     ]
    },
    {
     "name": "stdout",
     "output_type": "stream",
     "text": [
      "['雲林縣四湖鄉新庄村新庄路', '雲林縣麥寮鄉中興路134巷', '雲林縣斗六市民生路', '雲林縣二崙鄉大同路', '雲林縣麥寮鄉海豐村', '雲林縣斗南鎮雲林教養院[雲林縣斗南鎮忠孝路', '雲林縣斗六市石榴路', '雲林縣斗六市宏德街', '雲林縣斗六市日統客運總公司[雲林縣斗六市大同路', '雲林縣四湖鄉內湖村', '雲林縣山內村', '雲林縣虎尾鎮安溪里', '雲林縣麥寮鄉海珍南路', '雲林縣四湖鄉溪底村成功路', '雲林縣口湖鄉成龍村', '雲林縣口湖鄉水井村', '雲林縣西螺鎮鹿場里', '雲林縣莿桐鄉大美路', '雲林縣莿桐鄉甘厝村', '雲林縣北港鎮博愛路', '雲林縣斗南鎮中興路170巷6弄']\n",
      "['火災', '緊急救護', '緊急救護', '緊急救護', '緊急救護', '緊急救護', '緊急救護', '緊急救護', '緊急救護', '緊急救護', '緊急救護', '緊急救護', '火災', '緊急救護', '災害搶救', '緊急救護', '緊急救護', '緊急救護', '緊急救護', '緊急救護', '緊急救護']\n"
     ]
    },
    {
     "data": {
      "text/plain": [
       "21"
      ]
     },
     "execution_count": 3,
     "metadata": {},
     "output_type": "execute_result"
    }
   ],
   "source": [
    "driver_path=r\"C:\\Users\\user\\Downloads\\chromedriver_win32\\chromedriver.exe\"\n",
    "browser=webdriver.Chrome(driver_path)\n",
    "url='http://119.ylfire.gov.tw:8080/DTS/caselist/html' #爬蟲\n",
    "browser.get(url) \n",
    "location_name=[] #建立一陣列\n",
    "type_case=[]\n",
    "location=browser.find_elements_by_xpath('//tbody/tr/td[4]') #將地點擷取下來\n",
    "type_=browser.find_elements_by_xpath('//*[@id=\"dataTable\"]/tbody/tr/td[3]') #將案件類型擷取下來\n",
    "for adrr,types in zip(location,type_): #將擷取的資料分別放入location_name,type_case陣列內\n",
    "    location_name.append(adrr.text)\n",
    "    type_case.append(types.text)\n",
    "browser.quit()\n",
    "print(location_name)\n",
    "print(type_case)\n",
    "len(location_name)"
   ]
  },
  {
   "cell_type": "markdown",
   "id": "244f3f10",
   "metadata": {},
   "source": [
    "### 將地點資料轉成經緯度"
   ]
  },
  {
   "cell_type": "code",
   "execution_count": 4,
   "id": "132feca1",
   "metadata": {},
   "outputs": [
    {
     "name": "stderr",
     "output_type": "stream",
     "text": [
      "<ipython-input-4-fb9da7b941cf>:4: DeprecationWarning: executable_path has been deprecated, please pass in a Service object\n",
      "  new_browser=webdriver.Chrome(driver_path)\n",
      "<ipython-input-4-fb9da7b941cf>:7: DeprecationWarning: find_element_by_* commands are deprecated. Please use find_element() instead\n",
      "  new_browser.find_element_by_xpath('//*[@id=\"searchWord\"]').clear() #將搜尋欄位清空\n",
      "<ipython-input-4-fb9da7b941cf>:8: DeprecationWarning: find_element_by_* commands are deprecated. Please use find_element() instead\n",
      "  new_browser.find_element_by_id('searchWord').send_keys(i) #輸入地址\n",
      "<ipython-input-4-fb9da7b941cf>:9: DeprecationWarning: find_element_by_* commands are deprecated. Please use find_element() instead\n",
      "  new_browser.find_element_by_xpath('//*[@id=\"Menu\"]/div[2]/img[2]').click() #搜尋\n",
      "<ipython-input-4-fb9da7b941cf>:11: DeprecationWarning: find_element_by_* commands are deprecated. Please use find_element() instead\n",
      "  inframe=new_browser.find_element_by_xpath('//*[@id=\"customMarkinfowindow\"]/div/iframe') #找到彈跳出來的新視窗\n",
      "<ipython-input-4-fb9da7b941cf>:13: DeprecationWarning: find_element_by_* commands are deprecated. Please use find_element() instead\n",
      "  new_browser.find_element_by_xpath('//*[@id=\"defaultInfo\"]/table/tbody/tr[3]/td/table/tbody/tr/td[2]').click() #點選座標\n",
      "<ipython-input-4-fb9da7b941cf>:14: DeprecationWarning: find_element_by_* commands are deprecated. Please use find_element() instead\n",
      "  a=new_browser.find_element_by_xpath('//*[@id=\"location\"]/table/tbody/tr[2]/td') #將經緯度資料擷取下來\n"
     ]
    },
    {
     "name": "stdout",
     "output_type": "stream",
     "text": [
      "雲林縣四湖鄉新庄村新庄路\n",
      "雲林縣麥寮鄉中興路134巷\n",
      "雲林縣斗六市民生路\n",
      "雲林縣二崙鄉大同路\n",
      "雲林縣麥寮鄉海豐村\n",
      "雲林縣斗南鎮雲林教養院[雲林縣斗南鎮忠孝路\n",
      "雲林縣斗六市石榴路\n",
      "雲林縣斗六市宏德街\n",
      "雲林縣斗六市日統客運總公司[雲林縣斗六市大同路\n",
      "雲林縣四湖鄉內湖村\n",
      "雲林縣山內村\n",
      "雲林縣虎尾鎮安溪里\n",
      "雲林縣麥寮鄉海珍南路\n",
      "雲林縣四湖鄉溪底村成功路\n",
      "雲林縣口湖鄉成龍村\n",
      "雲林縣口湖鄉水井村\n",
      "雲林縣西螺鎮鹿場里\n",
      "雲林縣莿桐鄉大美路\n",
      "雲林縣莿桐鄉甘厝村\n",
      "雲林縣北港鎮博愛路\n",
      "雲林縣斗南鎮中興路170巷6弄\n"
     ]
    }
   ],
   "source": [
    "lat=[]\n",
    "log=[]\n",
    "for i in location_name:\n",
    "    new_browser=webdriver.Chrome(driver_path)\n",
    "    url='http://www.map.com.tw/'\n",
    "    new_browser.get(url)\n",
    "    new_browser.find_element_by_xpath('//*[@id=\"searchWord\"]').clear() #將搜尋欄位清空\n",
    "    new_browser.find_element_by_id('searchWord').send_keys(i) #輸入地址\n",
    "    new_browser.find_element_by_xpath('//*[@id=\"Menu\"]/div[2]/img[2]').click() #搜尋\n",
    "    time.sleep(2)\n",
    "    inframe=new_browser.find_element_by_xpath('//*[@id=\"customMarkinfowindow\"]/div/iframe') #找到彈跳出來的新視窗\n",
    "    new_browser.switch_to.frame(inframe) #轉移到新的彈跳視窗\n",
    "    new_browser.find_element_by_xpath('//*[@id=\"defaultInfo\"]/table/tbody/tr[3]/td/table/tbody/tr/td[2]').click() #點選座標\n",
    "    a=new_browser.find_element_by_xpath('//*[@id=\"location\"]/table/tbody/tr[2]/td') #將經緯度資料擷取下來\n",
    "    a = a.text.strip().split()\n",
    "    latitude = a[-1].split(\"：\")[-1] #因為在網頁裡面是經度:'121.xx' 緯度 : '23.xx'故若要擷取緯度資料則是要最後面的資料故才用[-1]\n",
    "    longtitude = a[0].split(\"：\")[-1]\n",
    "    lat.append(latitude)#將資料放入陣列內\n",
    "    log.append(longtitude)\n",
    "    new_browser.quit()\n",
    "    print(i)"
   ]
  },
  {
   "cell_type": "code",
   "execution_count": 5,
   "id": "7e88f893",
   "metadata": {},
   "outputs": [
    {
     "name": "stdout",
     "output_type": "stream",
     "text": [
      "['23.647762', '23.754174', '23.712268', '23.785884', '23.7538458', '23.68012108', '23.72386', '23.716068', '23.69696305', '23.63810203', '23.76093257', '23.7082826', '23.797587', '23.654346', '23.58265187', '23.58265187', '23.79791899', '23.732971', '23.76093257', '23.568319', '23.679972']\n",
      "['120.248943', '120.252475', '120.54305', '120.369227', '120.25175736', '120.47772014', '120.5848', '120.539944', '120.52693262', '120.22430654', '120.50235407', '120.44518075', '120.228601', '120.270598', '120.18573839', '120.18573839', '120.46554504', '120.522987', '120.50235407', '120.303727', '120.468515']\n"
     ]
    }
   ],
   "source": [
    "print(lat)\n",
    "print(log)"
   ]
  },
  {
   "cell_type": "code",
   "execution_count": 6,
   "id": "9b67134d",
   "metadata": {},
   "outputs": [],
   "source": [
    "yunlin_map=folium.Map(location=[23.68,120.3],zoom_start=11)  #產生雲林地圖"
   ]
  },
  {
   "cell_type": "code",
   "execution_count": 7,
   "id": "b76559b4",
   "metadata": {},
   "outputs": [
    {
     "name": "stderr",
     "output_type": "stream",
     "text": [
      "<ipython-input-7-36a5a2427c1a>:13: UserWarning: color argument of Icon should be one of: {'lightred', 'gray', 'lightgray', 'white', 'black', 'red', 'pink', 'orange', 'blue', 'darkgreen', 'darkpurple', 'darkblue', 'lightblue', 'beige', 'cadetblue', 'purple', 'darkred', 'lightgreen', 'green'}.\n",
      "  folium.Marker(location=[lats,logs],tooltip=html,icon=folium.Icon( icon=icon, color=color, prefix='fa')).add_to(yunlin_map) #將各地點劃記在地圖上\n"
     ]
    },
    {
     "data": {
      "text/html": [
       "<div style=\"width:100%;\"><div style=\"position:relative;width:100%;height:0;padding-bottom:60%;\"><span style=\"color:#565656\">Make this Notebook Trusted to load map: File -> Trust Notebook</span><iframe src=\"about:blank\" style=\"position:absolute;width:100%;height:100%;left:0;top:0;border:none !important;\" data-html=%3C%21DOCTYPE%20html%3E%0A%3Chead%3E%20%20%20%20%0A%20%20%20%20%3Cmeta%20http-equiv%3D%22content-type%22%20content%3D%22text/html%3B%20charset%3DUTF-8%22%20/%3E%0A%20%20%20%20%0A%20%20%20%20%20%20%20%20%3Cscript%3E%0A%20%20%20%20%20%20%20%20%20%20%20%20L_NO_TOUCH%20%3D%20false%3B%0A%20%20%20%20%20%20%20%20%20%20%20%20L_DISABLE_3D%20%3D%20false%3B%0A%20%20%20%20%20%20%20%20%3C/script%3E%0A%20%20%20%20%0A%20%20%20%20%3Cstyle%3Ehtml%2C%20body%20%7Bwidth%3A%20100%25%3Bheight%3A%20100%25%3Bmargin%3A%200%3Bpadding%3A%200%3B%7D%3C/style%3E%0A%20%20%20%20%3Cstyle%3E%23map%20%7Bposition%3Aabsolute%3Btop%3A0%3Bbottom%3A0%3Bright%3A0%3Bleft%3A0%3B%7D%3C/style%3E%0A%20%20%20%20%3Cscript%20src%3D%22https%3A//cdn.jsdelivr.net/npm/leaflet%401.6.0/dist/leaflet.js%22%3E%3C/script%3E%0A%20%20%20%20%3Cscript%20src%3D%22https%3A//code.jquery.com/jquery-1.12.4.min.js%22%3E%3C/script%3E%0A%20%20%20%20%3Cscript%20src%3D%22https%3A//maxcdn.bootstrapcdn.com/bootstrap/3.2.0/js/bootstrap.min.js%22%3E%3C/script%3E%0A%20%20%20%20%3Cscript%20src%3D%22https%3A//cdnjs.cloudflare.com/ajax/libs/Leaflet.awesome-markers/2.0.2/leaflet.awesome-markers.js%22%3E%3C/script%3E%0A%20%20%20%20%3Clink%20rel%3D%22stylesheet%22%20href%3D%22https%3A//cdn.jsdelivr.net/npm/leaflet%401.6.0/dist/leaflet.css%22/%3E%0A%20%20%20%20%3Clink%20rel%3D%22stylesheet%22%20href%3D%22https%3A//maxcdn.bootstrapcdn.com/bootstrap/3.2.0/css/bootstrap.min.css%22/%3E%0A%20%20%20%20%3Clink%20rel%3D%22stylesheet%22%20href%3D%22https%3A//maxcdn.bootstrapcdn.com/bootstrap/3.2.0/css/bootstrap-theme.min.css%22/%3E%0A%20%20%20%20%3Clink%20rel%3D%22stylesheet%22%20href%3D%22https%3A//maxcdn.bootstrapcdn.com/font-awesome/4.6.3/css/font-awesome.min.css%22/%3E%0A%20%20%20%20%3Clink%20rel%3D%22stylesheet%22%20href%3D%22https%3A//cdnjs.cloudflare.com/ajax/libs/Leaflet.awesome-markers/2.0.2/leaflet.awesome-markers.css%22/%3E%0A%20%20%20%20%3Clink%20rel%3D%22stylesheet%22%20href%3D%22https%3A//cdn.jsdelivr.net/gh/python-visualization/folium/folium/templates/leaflet.awesome.rotate.min.css%22/%3E%0A%20%20%20%20%0A%20%20%20%20%20%20%20%20%20%20%20%20%3Cmeta%20name%3D%22viewport%22%20content%3D%22width%3Ddevice-width%2C%0A%20%20%20%20%20%20%20%20%20%20%20%20%20%20%20%20initial-scale%3D1.0%2C%20maximum-scale%3D1.0%2C%20user-scalable%3Dno%22%20/%3E%0A%20%20%20%20%20%20%20%20%20%20%20%20%3Cstyle%3E%0A%20%20%20%20%20%20%20%20%20%20%20%20%20%20%20%20%23map_c9037e8109584111a3b20b7750d83dc9%20%7B%0A%20%20%20%20%20%20%20%20%20%20%20%20%20%20%20%20%20%20%20%20position%3A%20relative%3B%0A%20%20%20%20%20%20%20%20%20%20%20%20%20%20%20%20%20%20%20%20width%3A%20100.0%25%3B%0A%20%20%20%20%20%20%20%20%20%20%20%20%20%20%20%20%20%20%20%20height%3A%20100.0%25%3B%0A%20%20%20%20%20%20%20%20%20%20%20%20%20%20%20%20%20%20%20%20left%3A%200.0%25%3B%0A%20%20%20%20%20%20%20%20%20%20%20%20%20%20%20%20%20%20%20%20top%3A%200.0%25%3B%0A%20%20%20%20%20%20%20%20%20%20%20%20%20%20%20%20%7D%0A%20%20%20%20%20%20%20%20%20%20%20%20%3C/style%3E%0A%20%20%20%20%20%20%20%20%0A%3C/head%3E%0A%3Cbody%3E%20%20%20%20%0A%20%20%20%20%0A%20%20%20%20%20%20%20%20%20%20%20%20%3Cdiv%20class%3D%22folium-map%22%20id%3D%22map_c9037e8109584111a3b20b7750d83dc9%22%20%3E%3C/div%3E%0A%20%20%20%20%20%20%20%20%0A%3C/body%3E%0A%3Cscript%3E%20%20%20%20%0A%20%20%20%20%0A%20%20%20%20%20%20%20%20%20%20%20%20var%20map_c9037e8109584111a3b20b7750d83dc9%20%3D%20L.map%28%0A%20%20%20%20%20%20%20%20%20%20%20%20%20%20%20%20%22map_c9037e8109584111a3b20b7750d83dc9%22%2C%0A%20%20%20%20%20%20%20%20%20%20%20%20%20%20%20%20%7B%0A%20%20%20%20%20%20%20%20%20%20%20%20%20%20%20%20%20%20%20%20center%3A%20%5B23.68%2C%20120.3%5D%2C%0A%20%20%20%20%20%20%20%20%20%20%20%20%20%20%20%20%20%20%20%20crs%3A%20L.CRS.EPSG3857%2C%0A%20%20%20%20%20%20%20%20%20%20%20%20%20%20%20%20%20%20%20%20zoom%3A%2011%2C%0A%20%20%20%20%20%20%20%20%20%20%20%20%20%20%20%20%20%20%20%20zoomControl%3A%20true%2C%0A%20%20%20%20%20%20%20%20%20%20%20%20%20%20%20%20%20%20%20%20preferCanvas%3A%20false%2C%0A%20%20%20%20%20%20%20%20%20%20%20%20%20%20%20%20%7D%0A%20%20%20%20%20%20%20%20%20%20%20%20%29%3B%0A%0A%20%20%20%20%20%20%20%20%20%20%20%20%0A%0A%20%20%20%20%20%20%20%20%0A%20%20%20%20%0A%20%20%20%20%20%20%20%20%20%20%20%20var%20tile_layer_c30b485864654f668adba61bf84203e6%20%3D%20L.tileLayer%28%0A%20%20%20%20%20%20%20%20%20%20%20%20%20%20%20%20%22https%3A//%7Bs%7D.tile.openstreetmap.org/%7Bz%7D/%7Bx%7D/%7By%7D.png%22%2C%0A%20%20%20%20%20%20%20%20%20%20%20%20%20%20%20%20%7B%22attribution%22%3A%20%22Data%20by%20%5Cu0026copy%3B%20%5Cu003ca%20href%3D%5C%22http%3A//openstreetmap.org%5C%22%5Cu003eOpenStreetMap%5Cu003c/a%5Cu003e%2C%20under%20%5Cu003ca%20href%3D%5C%22http%3A//www.openstreetmap.org/copyright%5C%22%5Cu003eODbL%5Cu003c/a%5Cu003e.%22%2C%20%22detectRetina%22%3A%20false%2C%20%22maxNativeZoom%22%3A%2018%2C%20%22maxZoom%22%3A%2018%2C%20%22minZoom%22%3A%200%2C%20%22noWrap%22%3A%20false%2C%20%22opacity%22%3A%201%2C%20%22subdomains%22%3A%20%22abc%22%2C%20%22tms%22%3A%20false%7D%0A%20%20%20%20%20%20%20%20%20%20%20%20%29.addTo%28map_c9037e8109584111a3b20b7750d83dc9%29%3B%0A%20%20%20%20%20%20%20%20%0A%20%20%20%20%0A%20%20%20%20%20%20%20%20%20%20%20%20var%20marker_ed56830441364be1b2c88f9ad543984c%20%3D%20L.marker%28%0A%20%20%20%20%20%20%20%20%20%20%20%20%20%20%20%20%5B23.647762%2C%20120.248943%5D%2C%0A%20%20%20%20%20%20%20%20%20%20%20%20%20%20%20%20%7B%7D%0A%20%20%20%20%20%20%20%20%20%20%20%20%29.addTo%28map_c9037e8109584111a3b20b7750d83dc9%29%3B%0A%20%20%20%20%20%20%20%20%0A%20%20%20%20%0A%20%20%20%20%20%20%20%20%20%20%20%20var%20icon_f68b14eb5b93461fa0f108447b01ef9a%20%3D%20L.AwesomeMarkers.icon%28%0A%20%20%20%20%20%20%20%20%20%20%20%20%20%20%20%20%7B%22extraClasses%22%3A%20%22fa-rotate-0%22%2C%20%22icon%22%3A%20%22fire%22%2C%20%22iconColor%22%3A%20%22white%22%2C%20%22markerColor%22%3A%20%5B%22red%22%5D%2C%20%22prefix%22%3A%20%22fa%22%7D%0A%20%20%20%20%20%20%20%20%20%20%20%20%29%3B%0A%20%20%20%20%20%20%20%20%20%20%20%20marker_ed56830441364be1b2c88f9ad543984c.setIcon%28icon_f68b14eb5b93461fa0f108447b01ef9a%29%3B%0A%20%20%20%20%20%20%20%20%0A%20%20%20%20%0A%20%20%20%20%20%20%20%20%20%20%20%20marker_ed56830441364be1b2c88f9ad543984c.bindTooltip%28%0A%20%20%20%20%20%20%20%20%20%20%20%20%20%20%20%20%60%3Cdiv%3E%0A%20%20%20%20%20%20%20%20%20%20%20%20%20%20%20%20%20%20%20%20%20%3Cp%3E%E7%A8%AE%E9%A1%9E%3A%3Cp%3E%E7%81%AB%E7%81%BD%3Cp%3E%E5%9C%B0%E5%9D%80%3A%3Cp%3E%E9%9B%B2%E6%9E%97%E7%B8%A3%E5%9B%9B%E6%B9%96%E9%84%89%E6%96%B0%E5%BA%84%E6%9D%91%E6%96%B0%E5%BA%84%E8%B7%AF%0A%20%20%20%20%20%20%20%20%20%20%20%20%20%20%20%20%20%3C/div%3E%60%2C%0A%20%20%20%20%20%20%20%20%20%20%20%20%20%20%20%20%7B%22sticky%22%3A%20true%7D%0A%20%20%20%20%20%20%20%20%20%20%20%20%29%3B%0A%20%20%20%20%20%20%20%20%0A%20%20%20%20%0A%20%20%20%20%20%20%20%20%20%20%20%20var%20marker_fa6212e289734a1da6543537496d7eaa%20%3D%20L.marker%28%0A%20%20%20%20%20%20%20%20%20%20%20%20%20%20%20%20%5B23.754174%2C%20120.252475%5D%2C%0A%20%20%20%20%20%20%20%20%20%20%20%20%20%20%20%20%7B%7D%0A%20%20%20%20%20%20%20%20%20%20%20%20%29.addTo%28map_c9037e8109584111a3b20b7750d83dc9%29%3B%0A%20%20%20%20%20%20%20%20%0A%20%20%20%20%0A%20%20%20%20%20%20%20%20%20%20%20%20var%20icon_e5cd57d8e57941e39bae575bb49c1879%20%3D%20L.AwesomeMarkers.icon%28%0A%20%20%20%20%20%20%20%20%20%20%20%20%20%20%20%20%7B%22extraClasses%22%3A%20%22fa-rotate-0%22%2C%20%22icon%22%3A%20%22fa-ambulance%22%2C%20%22iconColor%22%3A%20%22white%22%2C%20%22markerColor%22%3A%20%5B%22orange%22%5D%2C%20%22prefix%22%3A%20%22fa%22%7D%0A%20%20%20%20%20%20%20%20%20%20%20%20%29%3B%0A%20%20%20%20%20%20%20%20%20%20%20%20marker_fa6212e289734a1da6543537496d7eaa.setIcon%28icon_e5cd57d8e57941e39bae575bb49c1879%29%3B%0A%20%20%20%20%20%20%20%20%0A%20%20%20%20%0A%20%20%20%20%20%20%20%20%20%20%20%20marker_fa6212e289734a1da6543537496d7eaa.bindTooltip%28%0A%20%20%20%20%20%20%20%20%20%20%20%20%20%20%20%20%60%3Cdiv%3E%0A%20%20%20%20%20%20%20%20%20%20%20%20%20%20%20%20%20%20%20%20%20%3Cp%3E%E7%A8%AE%E9%A1%9E%3A%3Cp%3E%E7%B7%8A%E6%80%A5%E6%95%91%E8%AD%B7%3Cp%3E%E5%9C%B0%E5%9D%80%3A%3Cp%3E%E9%9B%B2%E6%9E%97%E7%B8%A3%E9%BA%A5%E5%AF%AE%E9%84%89%E4%B8%AD%E8%88%88%E8%B7%AF134%E5%B7%B7%0A%20%20%20%20%20%20%20%20%20%20%20%20%20%20%20%20%20%3C/div%3E%60%2C%0A%20%20%20%20%20%20%20%20%20%20%20%20%20%20%20%20%7B%22sticky%22%3A%20true%7D%0A%20%20%20%20%20%20%20%20%20%20%20%20%29%3B%0A%20%20%20%20%20%20%20%20%0A%20%20%20%20%0A%20%20%20%20%20%20%20%20%20%20%20%20var%20marker_b71ddf1e918b459989f87b5eccabb40f%20%3D%20L.marker%28%0A%20%20%20%20%20%20%20%20%20%20%20%20%20%20%20%20%5B23.712268%2C%20120.54305%5D%2C%0A%20%20%20%20%20%20%20%20%20%20%20%20%20%20%20%20%7B%7D%0A%20%20%20%20%20%20%20%20%20%20%20%20%29.addTo%28map_c9037e8109584111a3b20b7750d83dc9%29%3B%0A%20%20%20%20%20%20%20%20%0A%20%20%20%20%0A%20%20%20%20%20%20%20%20%20%20%20%20var%20icon_da591577346c4e14b6ace89c4e5e3b20%20%3D%20L.AwesomeMarkers.icon%28%0A%20%20%20%20%20%20%20%20%20%20%20%20%20%20%20%20%7B%22extraClasses%22%3A%20%22fa-rotate-0%22%2C%20%22icon%22%3A%20%22fa-ambulance%22%2C%20%22iconColor%22%3A%20%22white%22%2C%20%22markerColor%22%3A%20%5B%22orange%22%5D%2C%20%22prefix%22%3A%20%22fa%22%7D%0A%20%20%20%20%20%20%20%20%20%20%20%20%29%3B%0A%20%20%20%20%20%20%20%20%20%20%20%20marker_b71ddf1e918b459989f87b5eccabb40f.setIcon%28icon_da591577346c4e14b6ace89c4e5e3b20%29%3B%0A%20%20%20%20%20%20%20%20%0A%20%20%20%20%0A%20%20%20%20%20%20%20%20%20%20%20%20marker_b71ddf1e918b459989f87b5eccabb40f.bindTooltip%28%0A%20%20%20%20%20%20%20%20%20%20%20%20%20%20%20%20%60%3Cdiv%3E%0A%20%20%20%20%20%20%20%20%20%20%20%20%20%20%20%20%20%20%20%20%20%3Cp%3E%E7%A8%AE%E9%A1%9E%3A%3Cp%3E%E7%B7%8A%E6%80%A5%E6%95%91%E8%AD%B7%3Cp%3E%E5%9C%B0%E5%9D%80%3A%3Cp%3E%E9%9B%B2%E6%9E%97%E7%B8%A3%E6%96%97%E5%85%AD%E5%B8%82%E6%B0%91%E7%94%9F%E8%B7%AF%0A%20%20%20%20%20%20%20%20%20%20%20%20%20%20%20%20%20%3C/div%3E%60%2C%0A%20%20%20%20%20%20%20%20%20%20%20%20%20%20%20%20%7B%22sticky%22%3A%20true%7D%0A%20%20%20%20%20%20%20%20%20%20%20%20%29%3B%0A%20%20%20%20%20%20%20%20%0A%20%20%20%20%0A%20%20%20%20%20%20%20%20%20%20%20%20var%20marker_69262552b5f74b09b80186fab9ebf07d%20%3D%20L.marker%28%0A%20%20%20%20%20%20%20%20%20%20%20%20%20%20%20%20%5B23.785884%2C%20120.369227%5D%2C%0A%20%20%20%20%20%20%20%20%20%20%20%20%20%20%20%20%7B%7D%0A%20%20%20%20%20%20%20%20%20%20%20%20%29.addTo%28map_c9037e8109584111a3b20b7750d83dc9%29%3B%0A%20%20%20%20%20%20%20%20%0A%20%20%20%20%0A%20%20%20%20%20%20%20%20%20%20%20%20var%20icon_b48151a8bda64ec4987f7f14b7c58157%20%3D%20L.AwesomeMarkers.icon%28%0A%20%20%20%20%20%20%20%20%20%20%20%20%20%20%20%20%7B%22extraClasses%22%3A%20%22fa-rotate-0%22%2C%20%22icon%22%3A%20%22fa-ambulance%22%2C%20%22iconColor%22%3A%20%22white%22%2C%20%22markerColor%22%3A%20%5B%22orange%22%5D%2C%20%22prefix%22%3A%20%22fa%22%7D%0A%20%20%20%20%20%20%20%20%20%20%20%20%29%3B%0A%20%20%20%20%20%20%20%20%20%20%20%20marker_69262552b5f74b09b80186fab9ebf07d.setIcon%28icon_b48151a8bda64ec4987f7f14b7c58157%29%3B%0A%20%20%20%20%20%20%20%20%0A%20%20%20%20%0A%20%20%20%20%20%20%20%20%20%20%20%20marker_69262552b5f74b09b80186fab9ebf07d.bindTooltip%28%0A%20%20%20%20%20%20%20%20%20%20%20%20%20%20%20%20%60%3Cdiv%3E%0A%20%20%20%20%20%20%20%20%20%20%20%20%20%20%20%20%20%20%20%20%20%3Cp%3E%E7%A8%AE%E9%A1%9E%3A%3Cp%3E%E7%B7%8A%E6%80%A5%E6%95%91%E8%AD%B7%3Cp%3E%E5%9C%B0%E5%9D%80%3A%3Cp%3E%E9%9B%B2%E6%9E%97%E7%B8%A3%E4%BA%8C%E5%B4%99%E9%84%89%E5%A4%A7%E5%90%8C%E8%B7%AF%0A%20%20%20%20%20%20%20%20%20%20%20%20%20%20%20%20%20%3C/div%3E%60%2C%0A%20%20%20%20%20%20%20%20%20%20%20%20%20%20%20%20%7B%22sticky%22%3A%20true%7D%0A%20%20%20%20%20%20%20%20%20%20%20%20%29%3B%0A%20%20%20%20%20%20%20%20%0A%20%20%20%20%0A%20%20%20%20%20%20%20%20%20%20%20%20var%20marker_5c8e7e5184ef45daa91dcb46904032c4%20%3D%20L.marker%28%0A%20%20%20%20%20%20%20%20%20%20%20%20%20%20%20%20%5B23.7538458%2C%20120.25175736%5D%2C%0A%20%20%20%20%20%20%20%20%20%20%20%20%20%20%20%20%7B%7D%0A%20%20%20%20%20%20%20%20%20%20%20%20%29.addTo%28map_c9037e8109584111a3b20b7750d83dc9%29%3B%0A%20%20%20%20%20%20%20%20%0A%20%20%20%20%0A%20%20%20%20%20%20%20%20%20%20%20%20var%20icon_e805094eef1d42a6a145af394b4fe04c%20%3D%20L.AwesomeMarkers.icon%28%0A%20%20%20%20%20%20%20%20%20%20%20%20%20%20%20%20%7B%22extraClasses%22%3A%20%22fa-rotate-0%22%2C%20%22icon%22%3A%20%22fa-ambulance%22%2C%20%22iconColor%22%3A%20%22white%22%2C%20%22markerColor%22%3A%20%5B%22orange%22%5D%2C%20%22prefix%22%3A%20%22fa%22%7D%0A%20%20%20%20%20%20%20%20%20%20%20%20%29%3B%0A%20%20%20%20%20%20%20%20%20%20%20%20marker_5c8e7e5184ef45daa91dcb46904032c4.setIcon%28icon_e805094eef1d42a6a145af394b4fe04c%29%3B%0A%20%20%20%20%20%20%20%20%0A%20%20%20%20%0A%20%20%20%20%20%20%20%20%20%20%20%20marker_5c8e7e5184ef45daa91dcb46904032c4.bindTooltip%28%0A%20%20%20%20%20%20%20%20%20%20%20%20%20%20%20%20%60%3Cdiv%3E%0A%20%20%20%20%20%20%20%20%20%20%20%20%20%20%20%20%20%20%20%20%20%3Cp%3E%E7%A8%AE%E9%A1%9E%3A%3Cp%3E%E7%B7%8A%E6%80%A5%E6%95%91%E8%AD%B7%3Cp%3E%E5%9C%B0%E5%9D%80%3A%3Cp%3E%E9%9B%B2%E6%9E%97%E7%B8%A3%E9%BA%A5%E5%AF%AE%E9%84%89%E6%B5%B7%E8%B1%90%E6%9D%91%0A%20%20%20%20%20%20%20%20%20%20%20%20%20%20%20%20%20%3C/div%3E%60%2C%0A%20%20%20%20%20%20%20%20%20%20%20%20%20%20%20%20%7B%22sticky%22%3A%20true%7D%0A%20%20%20%20%20%20%20%20%20%20%20%20%29%3B%0A%20%20%20%20%20%20%20%20%0A%20%20%20%20%0A%20%20%20%20%20%20%20%20%20%20%20%20var%20marker_c93ed239c1644e8ca962427217dd72c5%20%3D%20L.marker%28%0A%20%20%20%20%20%20%20%20%20%20%20%20%20%20%20%20%5B23.68012108%2C%20120.47772014%5D%2C%0A%20%20%20%20%20%20%20%20%20%20%20%20%20%20%20%20%7B%7D%0A%20%20%20%20%20%20%20%20%20%20%20%20%29.addTo%28map_c9037e8109584111a3b20b7750d83dc9%29%3B%0A%20%20%20%20%20%20%20%20%0A%20%20%20%20%0A%20%20%20%20%20%20%20%20%20%20%20%20var%20icon_c6d39d8464064b329753267a806c78e4%20%3D%20L.AwesomeMarkers.icon%28%0A%20%20%20%20%20%20%20%20%20%20%20%20%20%20%20%20%7B%22extraClasses%22%3A%20%22fa-rotate-0%22%2C%20%22icon%22%3A%20%22fa-ambulance%22%2C%20%22iconColor%22%3A%20%22white%22%2C%20%22markerColor%22%3A%20%5B%22orange%22%5D%2C%20%22prefix%22%3A%20%22fa%22%7D%0A%20%20%20%20%20%20%20%20%20%20%20%20%29%3B%0A%20%20%20%20%20%20%20%20%20%20%20%20marker_c93ed239c1644e8ca962427217dd72c5.setIcon%28icon_c6d39d8464064b329753267a806c78e4%29%3B%0A%20%20%20%20%20%20%20%20%0A%20%20%20%20%0A%20%20%20%20%20%20%20%20%20%20%20%20marker_c93ed239c1644e8ca962427217dd72c5.bindTooltip%28%0A%20%20%20%20%20%20%20%20%20%20%20%20%20%20%20%20%60%3Cdiv%3E%0A%20%20%20%20%20%20%20%20%20%20%20%20%20%20%20%20%20%20%20%20%20%3Cp%3E%E7%A8%AE%E9%A1%9E%3A%3Cp%3E%E7%B7%8A%E6%80%A5%E6%95%91%E8%AD%B7%3Cp%3E%E5%9C%B0%E5%9D%80%3A%3Cp%3E%E9%9B%B2%E6%9E%97%E7%B8%A3%E6%96%97%E5%8D%97%E9%8E%AE%E9%9B%B2%E6%9E%97%E6%95%99%E9%A4%8A%E9%99%A2%5B%E9%9B%B2%E6%9E%97%E7%B8%A3%E6%96%97%E5%8D%97%E9%8E%AE%E5%BF%A0%E5%AD%9D%E8%B7%AF%0A%20%20%20%20%20%20%20%20%20%20%20%20%20%20%20%20%20%3C/div%3E%60%2C%0A%20%20%20%20%20%20%20%20%20%20%20%20%20%20%20%20%7B%22sticky%22%3A%20true%7D%0A%20%20%20%20%20%20%20%20%20%20%20%20%29%3B%0A%20%20%20%20%20%20%20%20%0A%20%20%20%20%0A%20%20%20%20%20%20%20%20%20%20%20%20var%20marker_990c0d7893444d2e96f2f41540f6c954%20%3D%20L.marker%28%0A%20%20%20%20%20%20%20%20%20%20%20%20%20%20%20%20%5B23.72386%2C%20120.5848%5D%2C%0A%20%20%20%20%20%20%20%20%20%20%20%20%20%20%20%20%7B%7D%0A%20%20%20%20%20%20%20%20%20%20%20%20%29.addTo%28map_c9037e8109584111a3b20b7750d83dc9%29%3B%0A%20%20%20%20%20%20%20%20%0A%20%20%20%20%0A%20%20%20%20%20%20%20%20%20%20%20%20var%20icon_127ceec24ba641238a92d7b5a222a585%20%3D%20L.AwesomeMarkers.icon%28%0A%20%20%20%20%20%20%20%20%20%20%20%20%20%20%20%20%7B%22extraClasses%22%3A%20%22fa-rotate-0%22%2C%20%22icon%22%3A%20%22fa-ambulance%22%2C%20%22iconColor%22%3A%20%22white%22%2C%20%22markerColor%22%3A%20%5B%22orange%22%5D%2C%20%22prefix%22%3A%20%22fa%22%7D%0A%20%20%20%20%20%20%20%20%20%20%20%20%29%3B%0A%20%20%20%20%20%20%20%20%20%20%20%20marker_990c0d7893444d2e96f2f41540f6c954.setIcon%28icon_127ceec24ba641238a92d7b5a222a585%29%3B%0A%20%20%20%20%20%20%20%20%0A%20%20%20%20%0A%20%20%20%20%20%20%20%20%20%20%20%20marker_990c0d7893444d2e96f2f41540f6c954.bindTooltip%28%0A%20%20%20%20%20%20%20%20%20%20%20%20%20%20%20%20%60%3Cdiv%3E%0A%20%20%20%20%20%20%20%20%20%20%20%20%20%20%20%20%20%20%20%20%20%3Cp%3E%E7%A8%AE%E9%A1%9E%3A%3Cp%3E%E7%B7%8A%E6%80%A5%E6%95%91%E8%AD%B7%3Cp%3E%E5%9C%B0%E5%9D%80%3A%3Cp%3E%E9%9B%B2%E6%9E%97%E7%B8%A3%E6%96%97%E5%85%AD%E5%B8%82%E7%9F%B3%E6%A6%B4%E8%B7%AF%0A%20%20%20%20%20%20%20%20%20%20%20%20%20%20%20%20%20%3C/div%3E%60%2C%0A%20%20%20%20%20%20%20%20%20%20%20%20%20%20%20%20%7B%22sticky%22%3A%20true%7D%0A%20%20%20%20%20%20%20%20%20%20%20%20%29%3B%0A%20%20%20%20%20%20%20%20%0A%20%20%20%20%0A%20%20%20%20%20%20%20%20%20%20%20%20var%20marker_f19a7a423b494d93824d00d205ac5195%20%3D%20L.marker%28%0A%20%20%20%20%20%20%20%20%20%20%20%20%20%20%20%20%5B23.716068%2C%20120.539944%5D%2C%0A%20%20%20%20%20%20%20%20%20%20%20%20%20%20%20%20%7B%7D%0A%20%20%20%20%20%20%20%20%20%20%20%20%29.addTo%28map_c9037e8109584111a3b20b7750d83dc9%29%3B%0A%20%20%20%20%20%20%20%20%0A%20%20%20%20%0A%20%20%20%20%20%20%20%20%20%20%20%20var%20icon_2ae1ab2ca2334cc5929cf51d3c3869d0%20%3D%20L.AwesomeMarkers.icon%28%0A%20%20%20%20%20%20%20%20%20%20%20%20%20%20%20%20%7B%22extraClasses%22%3A%20%22fa-rotate-0%22%2C%20%22icon%22%3A%20%22fa-ambulance%22%2C%20%22iconColor%22%3A%20%22white%22%2C%20%22markerColor%22%3A%20%5B%22orange%22%5D%2C%20%22prefix%22%3A%20%22fa%22%7D%0A%20%20%20%20%20%20%20%20%20%20%20%20%29%3B%0A%20%20%20%20%20%20%20%20%20%20%20%20marker_f19a7a423b494d93824d00d205ac5195.setIcon%28icon_2ae1ab2ca2334cc5929cf51d3c3869d0%29%3B%0A%20%20%20%20%20%20%20%20%0A%20%20%20%20%0A%20%20%20%20%20%20%20%20%20%20%20%20marker_f19a7a423b494d93824d00d205ac5195.bindTooltip%28%0A%20%20%20%20%20%20%20%20%20%20%20%20%20%20%20%20%60%3Cdiv%3E%0A%20%20%20%20%20%20%20%20%20%20%20%20%20%20%20%20%20%20%20%20%20%3Cp%3E%E7%A8%AE%E9%A1%9E%3A%3Cp%3E%E7%B7%8A%E6%80%A5%E6%95%91%E8%AD%B7%3Cp%3E%E5%9C%B0%E5%9D%80%3A%3Cp%3E%E9%9B%B2%E6%9E%97%E7%B8%A3%E6%96%97%E5%85%AD%E5%B8%82%E5%AE%8F%E5%BE%B7%E8%A1%97%0A%20%20%20%20%20%20%20%20%20%20%20%20%20%20%20%20%20%3C/div%3E%60%2C%0A%20%20%20%20%20%20%20%20%20%20%20%20%20%20%20%20%7B%22sticky%22%3A%20true%7D%0A%20%20%20%20%20%20%20%20%20%20%20%20%29%3B%0A%20%20%20%20%20%20%20%20%0A%20%20%20%20%0A%20%20%20%20%20%20%20%20%20%20%20%20var%20marker_fa0501e147df4801b6705f90e26a1e21%20%3D%20L.marker%28%0A%20%20%20%20%20%20%20%20%20%20%20%20%20%20%20%20%5B23.69696305%2C%20120.52693262%5D%2C%0A%20%20%20%20%20%20%20%20%20%20%20%20%20%20%20%20%7B%7D%0A%20%20%20%20%20%20%20%20%20%20%20%20%29.addTo%28map_c9037e8109584111a3b20b7750d83dc9%29%3B%0A%20%20%20%20%20%20%20%20%0A%20%20%20%20%0A%20%20%20%20%20%20%20%20%20%20%20%20var%20icon_d2711de3afd74f04874231ca856df364%20%3D%20L.AwesomeMarkers.icon%28%0A%20%20%20%20%20%20%20%20%20%20%20%20%20%20%20%20%7B%22extraClasses%22%3A%20%22fa-rotate-0%22%2C%20%22icon%22%3A%20%22fa-ambulance%22%2C%20%22iconColor%22%3A%20%22white%22%2C%20%22markerColor%22%3A%20%5B%22orange%22%5D%2C%20%22prefix%22%3A%20%22fa%22%7D%0A%20%20%20%20%20%20%20%20%20%20%20%20%29%3B%0A%20%20%20%20%20%20%20%20%20%20%20%20marker_fa0501e147df4801b6705f90e26a1e21.setIcon%28icon_d2711de3afd74f04874231ca856df364%29%3B%0A%20%20%20%20%20%20%20%20%0A%20%20%20%20%0A%20%20%20%20%20%20%20%20%20%20%20%20marker_fa0501e147df4801b6705f90e26a1e21.bindTooltip%28%0A%20%20%20%20%20%20%20%20%20%20%20%20%20%20%20%20%60%3Cdiv%3E%0A%20%20%20%20%20%20%20%20%20%20%20%20%20%20%20%20%20%20%20%20%20%3Cp%3E%E7%A8%AE%E9%A1%9E%3A%3Cp%3E%E7%B7%8A%E6%80%A5%E6%95%91%E8%AD%B7%3Cp%3E%E5%9C%B0%E5%9D%80%3A%3Cp%3E%E9%9B%B2%E6%9E%97%E7%B8%A3%E6%96%97%E5%85%AD%E5%B8%82%E6%97%A5%E7%B5%B1%E5%AE%A2%E9%81%8B%E7%B8%BD%E5%85%AC%E5%8F%B8%5B%E9%9B%B2%E6%9E%97%E7%B8%A3%E6%96%97%E5%85%AD%E5%B8%82%E5%A4%A7%E5%90%8C%E8%B7%AF%0A%20%20%20%20%20%20%20%20%20%20%20%20%20%20%20%20%20%3C/div%3E%60%2C%0A%20%20%20%20%20%20%20%20%20%20%20%20%20%20%20%20%7B%22sticky%22%3A%20true%7D%0A%20%20%20%20%20%20%20%20%20%20%20%20%29%3B%0A%20%20%20%20%20%20%20%20%0A%20%20%20%20%0A%20%20%20%20%20%20%20%20%20%20%20%20var%20marker_8c77793c153149d1b4119406525b4756%20%3D%20L.marker%28%0A%20%20%20%20%20%20%20%20%20%20%20%20%20%20%20%20%5B23.63810203%2C%20120.22430654%5D%2C%0A%20%20%20%20%20%20%20%20%20%20%20%20%20%20%20%20%7B%7D%0A%20%20%20%20%20%20%20%20%20%20%20%20%29.addTo%28map_c9037e8109584111a3b20b7750d83dc9%29%3B%0A%20%20%20%20%20%20%20%20%0A%20%20%20%20%0A%20%20%20%20%20%20%20%20%20%20%20%20var%20icon_948c692ca73946968f9555cf67ec79d0%20%3D%20L.AwesomeMarkers.icon%28%0A%20%20%20%20%20%20%20%20%20%20%20%20%20%20%20%20%7B%22extraClasses%22%3A%20%22fa-rotate-0%22%2C%20%22icon%22%3A%20%22fa-ambulance%22%2C%20%22iconColor%22%3A%20%22white%22%2C%20%22markerColor%22%3A%20%5B%22orange%22%5D%2C%20%22prefix%22%3A%20%22fa%22%7D%0A%20%20%20%20%20%20%20%20%20%20%20%20%29%3B%0A%20%20%20%20%20%20%20%20%20%20%20%20marker_8c77793c153149d1b4119406525b4756.setIcon%28icon_948c692ca73946968f9555cf67ec79d0%29%3B%0A%20%20%20%20%20%20%20%20%0A%20%20%20%20%0A%20%20%20%20%20%20%20%20%20%20%20%20marker_8c77793c153149d1b4119406525b4756.bindTooltip%28%0A%20%20%20%20%20%20%20%20%20%20%20%20%20%20%20%20%60%3Cdiv%3E%0A%20%20%20%20%20%20%20%20%20%20%20%20%20%20%20%20%20%20%20%20%20%3Cp%3E%E7%A8%AE%E9%A1%9E%3A%3Cp%3E%E7%B7%8A%E6%80%A5%E6%95%91%E8%AD%B7%3Cp%3E%E5%9C%B0%E5%9D%80%3A%3Cp%3E%E9%9B%B2%E6%9E%97%E7%B8%A3%E5%9B%9B%E6%B9%96%E9%84%89%E5%85%A7%E6%B9%96%E6%9D%91%0A%20%20%20%20%20%20%20%20%20%20%20%20%20%20%20%20%20%3C/div%3E%60%2C%0A%20%20%20%20%20%20%20%20%20%20%20%20%20%20%20%20%7B%22sticky%22%3A%20true%7D%0A%20%20%20%20%20%20%20%20%20%20%20%20%29%3B%0A%20%20%20%20%20%20%20%20%0A%20%20%20%20%0A%20%20%20%20%20%20%20%20%20%20%20%20var%20marker_5652634606f34fd6ba236679bea40414%20%3D%20L.marker%28%0A%20%20%20%20%20%20%20%20%20%20%20%20%20%20%20%20%5B23.76093257%2C%20120.50235407%5D%2C%0A%20%20%20%20%20%20%20%20%20%20%20%20%20%20%20%20%7B%7D%0A%20%20%20%20%20%20%20%20%20%20%20%20%29.addTo%28map_c9037e8109584111a3b20b7750d83dc9%29%3B%0A%20%20%20%20%20%20%20%20%0A%20%20%20%20%0A%20%20%20%20%20%20%20%20%20%20%20%20var%20icon_3392ff5849f04861bda65f5dc8a7340c%20%3D%20L.AwesomeMarkers.icon%28%0A%20%20%20%20%20%20%20%20%20%20%20%20%20%20%20%20%7B%22extraClasses%22%3A%20%22fa-rotate-0%22%2C%20%22icon%22%3A%20%22fa-ambulance%22%2C%20%22iconColor%22%3A%20%22white%22%2C%20%22markerColor%22%3A%20%5B%22orange%22%5D%2C%20%22prefix%22%3A%20%22fa%22%7D%0A%20%20%20%20%20%20%20%20%20%20%20%20%29%3B%0A%20%20%20%20%20%20%20%20%20%20%20%20marker_5652634606f34fd6ba236679bea40414.setIcon%28icon_3392ff5849f04861bda65f5dc8a7340c%29%3B%0A%20%20%20%20%20%20%20%20%0A%20%20%20%20%0A%20%20%20%20%20%20%20%20%20%20%20%20marker_5652634606f34fd6ba236679bea40414.bindTooltip%28%0A%20%20%20%20%20%20%20%20%20%20%20%20%20%20%20%20%60%3Cdiv%3E%0A%20%20%20%20%20%20%20%20%20%20%20%20%20%20%20%20%20%20%20%20%20%3Cp%3E%E7%A8%AE%E9%A1%9E%3A%3Cp%3E%E7%B7%8A%E6%80%A5%E6%95%91%E8%AD%B7%3Cp%3E%E5%9C%B0%E5%9D%80%3A%3Cp%3E%E9%9B%B2%E6%9E%97%E7%B8%A3%E5%B1%B1%E5%85%A7%E6%9D%91%0A%20%20%20%20%20%20%20%20%20%20%20%20%20%20%20%20%20%3C/div%3E%60%2C%0A%20%20%20%20%20%20%20%20%20%20%20%20%20%20%20%20%7B%22sticky%22%3A%20true%7D%0A%20%20%20%20%20%20%20%20%20%20%20%20%29%3B%0A%20%20%20%20%20%20%20%20%0A%20%20%20%20%0A%20%20%20%20%20%20%20%20%20%20%20%20var%20marker_5f9569712c7f445b95c538ab60b63cfc%20%3D%20L.marker%28%0A%20%20%20%20%20%20%20%20%20%20%20%20%20%20%20%20%5B23.7082826%2C%20120.44518075%5D%2C%0A%20%20%20%20%20%20%20%20%20%20%20%20%20%20%20%20%7B%7D%0A%20%20%20%20%20%20%20%20%20%20%20%20%29.addTo%28map_c9037e8109584111a3b20b7750d83dc9%29%3B%0A%20%20%20%20%20%20%20%20%0A%20%20%20%20%0A%20%20%20%20%20%20%20%20%20%20%20%20var%20icon_171b74a278774eb0a28d79607daa58a9%20%3D%20L.AwesomeMarkers.icon%28%0A%20%20%20%20%20%20%20%20%20%20%20%20%20%20%20%20%7B%22extraClasses%22%3A%20%22fa-rotate-0%22%2C%20%22icon%22%3A%20%22fa-ambulance%22%2C%20%22iconColor%22%3A%20%22white%22%2C%20%22markerColor%22%3A%20%5B%22orange%22%5D%2C%20%22prefix%22%3A%20%22fa%22%7D%0A%20%20%20%20%20%20%20%20%20%20%20%20%29%3B%0A%20%20%20%20%20%20%20%20%20%20%20%20marker_5f9569712c7f445b95c538ab60b63cfc.setIcon%28icon_171b74a278774eb0a28d79607daa58a9%29%3B%0A%20%20%20%20%20%20%20%20%0A%20%20%20%20%0A%20%20%20%20%20%20%20%20%20%20%20%20marker_5f9569712c7f445b95c538ab60b63cfc.bindTooltip%28%0A%20%20%20%20%20%20%20%20%20%20%20%20%20%20%20%20%60%3Cdiv%3E%0A%20%20%20%20%20%20%20%20%20%20%20%20%20%20%20%20%20%20%20%20%20%3Cp%3E%E7%A8%AE%E9%A1%9E%3A%3Cp%3E%E7%B7%8A%E6%80%A5%E6%95%91%E8%AD%B7%3Cp%3E%E5%9C%B0%E5%9D%80%3A%3Cp%3E%E9%9B%B2%E6%9E%97%E7%B8%A3%E8%99%8E%E5%B0%BE%E9%8E%AE%E5%AE%89%E6%BA%AA%E9%87%8C%0A%20%20%20%20%20%20%20%20%20%20%20%20%20%20%20%20%20%3C/div%3E%60%2C%0A%20%20%20%20%20%20%20%20%20%20%20%20%20%20%20%20%7B%22sticky%22%3A%20true%7D%0A%20%20%20%20%20%20%20%20%20%20%20%20%29%3B%0A%20%20%20%20%20%20%20%20%0A%20%20%20%20%0A%20%20%20%20%20%20%20%20%20%20%20%20var%20marker_0970f08aa893487891ecb0e933578361%20%3D%20L.marker%28%0A%20%20%20%20%20%20%20%20%20%20%20%20%20%20%20%20%5B23.797587%2C%20120.228601%5D%2C%0A%20%20%20%20%20%20%20%20%20%20%20%20%20%20%20%20%7B%7D%0A%20%20%20%20%20%20%20%20%20%20%20%20%29.addTo%28map_c9037e8109584111a3b20b7750d83dc9%29%3B%0A%20%20%20%20%20%20%20%20%0A%20%20%20%20%0A%20%20%20%20%20%20%20%20%20%20%20%20var%20icon_7d43f0267bc046908e307999ee510009%20%3D%20L.AwesomeMarkers.icon%28%0A%20%20%20%20%20%20%20%20%20%20%20%20%20%20%20%20%7B%22extraClasses%22%3A%20%22fa-rotate-0%22%2C%20%22icon%22%3A%20%22fire%22%2C%20%22iconColor%22%3A%20%22white%22%2C%20%22markerColor%22%3A%20%5B%22red%22%5D%2C%20%22prefix%22%3A%20%22fa%22%7D%0A%20%20%20%20%20%20%20%20%20%20%20%20%29%3B%0A%20%20%20%20%20%20%20%20%20%20%20%20marker_0970f08aa893487891ecb0e933578361.setIcon%28icon_7d43f0267bc046908e307999ee510009%29%3B%0A%20%20%20%20%20%20%20%20%0A%20%20%20%20%0A%20%20%20%20%20%20%20%20%20%20%20%20marker_0970f08aa893487891ecb0e933578361.bindTooltip%28%0A%20%20%20%20%20%20%20%20%20%20%20%20%20%20%20%20%60%3Cdiv%3E%0A%20%20%20%20%20%20%20%20%20%20%20%20%20%20%20%20%20%20%20%20%20%3Cp%3E%E7%A8%AE%E9%A1%9E%3A%3Cp%3E%E7%81%AB%E7%81%BD%3Cp%3E%E5%9C%B0%E5%9D%80%3A%3Cp%3E%E9%9B%B2%E6%9E%97%E7%B8%A3%E9%BA%A5%E5%AF%AE%E9%84%89%E6%B5%B7%E7%8F%8D%E5%8D%97%E8%B7%AF%0A%20%20%20%20%20%20%20%20%20%20%20%20%20%20%20%20%20%3C/div%3E%60%2C%0A%20%20%20%20%20%20%20%20%20%20%20%20%20%20%20%20%7B%22sticky%22%3A%20true%7D%0A%20%20%20%20%20%20%20%20%20%20%20%20%29%3B%0A%20%20%20%20%20%20%20%20%0A%20%20%20%20%0A%20%20%20%20%20%20%20%20%20%20%20%20var%20marker_4341cb3e55b24dea9a275e12fb897cd3%20%3D%20L.marker%28%0A%20%20%20%20%20%20%20%20%20%20%20%20%20%20%20%20%5B23.654346%2C%20120.270598%5D%2C%0A%20%20%20%20%20%20%20%20%20%20%20%20%20%20%20%20%7B%7D%0A%20%20%20%20%20%20%20%20%20%20%20%20%29.addTo%28map_c9037e8109584111a3b20b7750d83dc9%29%3B%0A%20%20%20%20%20%20%20%20%0A%20%20%20%20%0A%20%20%20%20%20%20%20%20%20%20%20%20var%20icon_2d3a0334d2c34759b6d008d6bb421716%20%3D%20L.AwesomeMarkers.icon%28%0A%20%20%20%20%20%20%20%20%20%20%20%20%20%20%20%20%7B%22extraClasses%22%3A%20%22fa-rotate-0%22%2C%20%22icon%22%3A%20%22fa-ambulance%22%2C%20%22iconColor%22%3A%20%22white%22%2C%20%22markerColor%22%3A%20%5B%22orange%22%5D%2C%20%22prefix%22%3A%20%22fa%22%7D%0A%20%20%20%20%20%20%20%20%20%20%20%20%29%3B%0A%20%20%20%20%20%20%20%20%20%20%20%20marker_4341cb3e55b24dea9a275e12fb897cd3.setIcon%28icon_2d3a0334d2c34759b6d008d6bb421716%29%3B%0A%20%20%20%20%20%20%20%20%0A%20%20%20%20%0A%20%20%20%20%20%20%20%20%20%20%20%20marker_4341cb3e55b24dea9a275e12fb897cd3.bindTooltip%28%0A%20%20%20%20%20%20%20%20%20%20%20%20%20%20%20%20%60%3Cdiv%3E%0A%20%20%20%20%20%20%20%20%20%20%20%20%20%20%20%20%20%20%20%20%20%3Cp%3E%E7%A8%AE%E9%A1%9E%3A%3Cp%3E%E7%B7%8A%E6%80%A5%E6%95%91%E8%AD%B7%3Cp%3E%E5%9C%B0%E5%9D%80%3A%3Cp%3E%E9%9B%B2%E6%9E%97%E7%B8%A3%E5%9B%9B%E6%B9%96%E9%84%89%E6%BA%AA%E5%BA%95%E6%9D%91%E6%88%90%E5%8A%9F%E8%B7%AF%0A%20%20%20%20%20%20%20%20%20%20%20%20%20%20%20%20%20%3C/div%3E%60%2C%0A%20%20%20%20%20%20%20%20%20%20%20%20%20%20%20%20%7B%22sticky%22%3A%20true%7D%0A%20%20%20%20%20%20%20%20%20%20%20%20%29%3B%0A%20%20%20%20%20%20%20%20%0A%20%20%20%20%0A%20%20%20%20%20%20%20%20%20%20%20%20var%20marker_d96f03c7cf254e62a9999fdb88632ab2%20%3D%20L.marker%28%0A%20%20%20%20%20%20%20%20%20%20%20%20%20%20%20%20%5B23.58265187%2C%20120.18573839%5D%2C%0A%20%20%20%20%20%20%20%20%20%20%20%20%20%20%20%20%7B%7D%0A%20%20%20%20%20%20%20%20%20%20%20%20%29.addTo%28map_c9037e8109584111a3b20b7750d83dc9%29%3B%0A%20%20%20%20%20%20%20%20%0A%20%20%20%20%0A%20%20%20%20%20%20%20%20%20%20%20%20var%20icon_b0f0423c74c44036b2556b1e89359759%20%3D%20L.AwesomeMarkers.icon%28%0A%20%20%20%20%20%20%20%20%20%20%20%20%20%20%20%20%7B%22extraClasses%22%3A%20%22fa-rotate-0%22%2C%20%22icon%22%3A%20%22exclamation%22%2C%20%22iconColor%22%3A%20%22white%22%2C%20%22markerColor%22%3A%20%5B%22green%22%5D%2C%20%22prefix%22%3A%20%22fa%22%7D%0A%20%20%20%20%20%20%20%20%20%20%20%20%29%3B%0A%20%20%20%20%20%20%20%20%20%20%20%20marker_d96f03c7cf254e62a9999fdb88632ab2.setIcon%28icon_b0f0423c74c44036b2556b1e89359759%29%3B%0A%20%20%20%20%20%20%20%20%0A%20%20%20%20%0A%20%20%20%20%20%20%20%20%20%20%20%20marker_d96f03c7cf254e62a9999fdb88632ab2.bindTooltip%28%0A%20%20%20%20%20%20%20%20%20%20%20%20%20%20%20%20%60%3Cdiv%3E%0A%20%20%20%20%20%20%20%20%20%20%20%20%20%20%20%20%20%20%20%20%20%3Cp%3E%E7%A8%AE%E9%A1%9E%3A%3Cp%3E%E7%81%BD%E5%AE%B3%E6%90%B6%E6%95%91%3Cp%3E%E5%9C%B0%E5%9D%80%3A%3Cp%3E%E9%9B%B2%E6%9E%97%E7%B8%A3%E5%8F%A3%E6%B9%96%E9%84%89%E6%88%90%E9%BE%8D%E6%9D%91%0A%20%20%20%20%20%20%20%20%20%20%20%20%20%20%20%20%20%3C/div%3E%60%2C%0A%20%20%20%20%20%20%20%20%20%20%20%20%20%20%20%20%7B%22sticky%22%3A%20true%7D%0A%20%20%20%20%20%20%20%20%20%20%20%20%29%3B%0A%20%20%20%20%20%20%20%20%0A%20%20%20%20%0A%20%20%20%20%20%20%20%20%20%20%20%20var%20marker_da61a278c82840ba9ddc4e27da8e6ea6%20%3D%20L.marker%28%0A%20%20%20%20%20%20%20%20%20%20%20%20%20%20%20%20%5B23.58265187%2C%20120.18573839%5D%2C%0A%20%20%20%20%20%20%20%20%20%20%20%20%20%20%20%20%7B%7D%0A%20%20%20%20%20%20%20%20%20%20%20%20%29.addTo%28map_c9037e8109584111a3b20b7750d83dc9%29%3B%0A%20%20%20%20%20%20%20%20%0A%20%20%20%20%0A%20%20%20%20%20%20%20%20%20%20%20%20var%20icon_5dc9f1b24be04b63910b7b49a4a4ee9f%20%3D%20L.AwesomeMarkers.icon%28%0A%20%20%20%20%20%20%20%20%20%20%20%20%20%20%20%20%7B%22extraClasses%22%3A%20%22fa-rotate-0%22%2C%20%22icon%22%3A%20%22fa-ambulance%22%2C%20%22iconColor%22%3A%20%22white%22%2C%20%22markerColor%22%3A%20%5B%22orange%22%5D%2C%20%22prefix%22%3A%20%22fa%22%7D%0A%20%20%20%20%20%20%20%20%20%20%20%20%29%3B%0A%20%20%20%20%20%20%20%20%20%20%20%20marker_da61a278c82840ba9ddc4e27da8e6ea6.setIcon%28icon_5dc9f1b24be04b63910b7b49a4a4ee9f%29%3B%0A%20%20%20%20%20%20%20%20%0A%20%20%20%20%0A%20%20%20%20%20%20%20%20%20%20%20%20marker_da61a278c82840ba9ddc4e27da8e6ea6.bindTooltip%28%0A%20%20%20%20%20%20%20%20%20%20%20%20%20%20%20%20%60%3Cdiv%3E%0A%20%20%20%20%20%20%20%20%20%20%20%20%20%20%20%20%20%20%20%20%20%3Cp%3E%E7%A8%AE%E9%A1%9E%3A%3Cp%3E%E7%B7%8A%E6%80%A5%E6%95%91%E8%AD%B7%3Cp%3E%E5%9C%B0%E5%9D%80%3A%3Cp%3E%E9%9B%B2%E6%9E%97%E7%B8%A3%E5%8F%A3%E6%B9%96%E9%84%89%E6%B0%B4%E4%BA%95%E6%9D%91%0A%20%20%20%20%20%20%20%20%20%20%20%20%20%20%20%20%20%3C/div%3E%60%2C%0A%20%20%20%20%20%20%20%20%20%20%20%20%20%20%20%20%7B%22sticky%22%3A%20true%7D%0A%20%20%20%20%20%20%20%20%20%20%20%20%29%3B%0A%20%20%20%20%20%20%20%20%0A%20%20%20%20%0A%20%20%20%20%20%20%20%20%20%20%20%20var%20marker_dcb94e7735014bfe9eaa58aa998604f4%20%3D%20L.marker%28%0A%20%20%20%20%20%20%20%20%20%20%20%20%20%20%20%20%5B23.79791899%2C%20120.46554504%5D%2C%0A%20%20%20%20%20%20%20%20%20%20%20%20%20%20%20%20%7B%7D%0A%20%20%20%20%20%20%20%20%20%20%20%20%29.addTo%28map_c9037e8109584111a3b20b7750d83dc9%29%3B%0A%20%20%20%20%20%20%20%20%0A%20%20%20%20%0A%20%20%20%20%20%20%20%20%20%20%20%20var%20icon_83d1b98829d7403790eb5edf3e62c581%20%3D%20L.AwesomeMarkers.icon%28%0A%20%20%20%20%20%20%20%20%20%20%20%20%20%20%20%20%7B%22extraClasses%22%3A%20%22fa-rotate-0%22%2C%20%22icon%22%3A%20%22fa-ambulance%22%2C%20%22iconColor%22%3A%20%22white%22%2C%20%22markerColor%22%3A%20%5B%22orange%22%5D%2C%20%22prefix%22%3A%20%22fa%22%7D%0A%20%20%20%20%20%20%20%20%20%20%20%20%29%3B%0A%20%20%20%20%20%20%20%20%20%20%20%20marker_dcb94e7735014bfe9eaa58aa998604f4.setIcon%28icon_83d1b98829d7403790eb5edf3e62c581%29%3B%0A%20%20%20%20%20%20%20%20%0A%20%20%20%20%0A%20%20%20%20%20%20%20%20%20%20%20%20marker_dcb94e7735014bfe9eaa58aa998604f4.bindTooltip%28%0A%20%20%20%20%20%20%20%20%20%20%20%20%20%20%20%20%60%3Cdiv%3E%0A%20%20%20%20%20%20%20%20%20%20%20%20%20%20%20%20%20%20%20%20%20%3Cp%3E%E7%A8%AE%E9%A1%9E%3A%3Cp%3E%E7%B7%8A%E6%80%A5%E6%95%91%E8%AD%B7%3Cp%3E%E5%9C%B0%E5%9D%80%3A%3Cp%3E%E9%9B%B2%E6%9E%97%E7%B8%A3%E8%A5%BF%E8%9E%BA%E9%8E%AE%E9%B9%BF%E5%A0%B4%E9%87%8C%0A%20%20%20%20%20%20%20%20%20%20%20%20%20%20%20%20%20%3C/div%3E%60%2C%0A%20%20%20%20%20%20%20%20%20%20%20%20%20%20%20%20%7B%22sticky%22%3A%20true%7D%0A%20%20%20%20%20%20%20%20%20%20%20%20%29%3B%0A%20%20%20%20%20%20%20%20%0A%20%20%20%20%0A%20%20%20%20%20%20%20%20%20%20%20%20var%20marker_f27008d481fc49e49f0074083e8b4136%20%3D%20L.marker%28%0A%20%20%20%20%20%20%20%20%20%20%20%20%20%20%20%20%5B23.732971%2C%20120.522987%5D%2C%0A%20%20%20%20%20%20%20%20%20%20%20%20%20%20%20%20%7B%7D%0A%20%20%20%20%20%20%20%20%20%20%20%20%29.addTo%28map_c9037e8109584111a3b20b7750d83dc9%29%3B%0A%20%20%20%20%20%20%20%20%0A%20%20%20%20%0A%20%20%20%20%20%20%20%20%20%20%20%20var%20icon_2ea912d4fd224ea58624d7af7faa3045%20%3D%20L.AwesomeMarkers.icon%28%0A%20%20%20%20%20%20%20%20%20%20%20%20%20%20%20%20%7B%22extraClasses%22%3A%20%22fa-rotate-0%22%2C%20%22icon%22%3A%20%22fa-ambulance%22%2C%20%22iconColor%22%3A%20%22white%22%2C%20%22markerColor%22%3A%20%5B%22orange%22%5D%2C%20%22prefix%22%3A%20%22fa%22%7D%0A%20%20%20%20%20%20%20%20%20%20%20%20%29%3B%0A%20%20%20%20%20%20%20%20%20%20%20%20marker_f27008d481fc49e49f0074083e8b4136.setIcon%28icon_2ea912d4fd224ea58624d7af7faa3045%29%3B%0A%20%20%20%20%20%20%20%20%0A%20%20%20%20%0A%20%20%20%20%20%20%20%20%20%20%20%20marker_f27008d481fc49e49f0074083e8b4136.bindTooltip%28%0A%20%20%20%20%20%20%20%20%20%20%20%20%20%20%20%20%60%3Cdiv%3E%0A%20%20%20%20%20%20%20%20%20%20%20%20%20%20%20%20%20%20%20%20%20%3Cp%3E%E7%A8%AE%E9%A1%9E%3A%3Cp%3E%E7%B7%8A%E6%80%A5%E6%95%91%E8%AD%B7%3Cp%3E%E5%9C%B0%E5%9D%80%3A%3Cp%3E%E9%9B%B2%E6%9E%97%E7%B8%A3%E8%8E%BF%E6%A1%90%E9%84%89%E5%A4%A7%E7%BE%8E%E8%B7%AF%0A%20%20%20%20%20%20%20%20%20%20%20%20%20%20%20%20%20%3C/div%3E%60%2C%0A%20%20%20%20%20%20%20%20%20%20%20%20%20%20%20%20%7B%22sticky%22%3A%20true%7D%0A%20%20%20%20%20%20%20%20%20%20%20%20%29%3B%0A%20%20%20%20%20%20%20%20%0A%20%20%20%20%0A%20%20%20%20%20%20%20%20%20%20%20%20var%20marker_fd36f7d1d78740e9970a30139b113c84%20%3D%20L.marker%28%0A%20%20%20%20%20%20%20%20%20%20%20%20%20%20%20%20%5B23.76093257%2C%20120.50235407%5D%2C%0A%20%20%20%20%20%20%20%20%20%20%20%20%20%20%20%20%7B%7D%0A%20%20%20%20%20%20%20%20%20%20%20%20%29.addTo%28map_c9037e8109584111a3b20b7750d83dc9%29%3B%0A%20%20%20%20%20%20%20%20%0A%20%20%20%20%0A%20%20%20%20%20%20%20%20%20%20%20%20var%20icon_15fddbb7d74e4b4fa7cafe74bbe47cce%20%3D%20L.AwesomeMarkers.icon%28%0A%20%20%20%20%20%20%20%20%20%20%20%20%20%20%20%20%7B%22extraClasses%22%3A%20%22fa-rotate-0%22%2C%20%22icon%22%3A%20%22fa-ambulance%22%2C%20%22iconColor%22%3A%20%22white%22%2C%20%22markerColor%22%3A%20%5B%22orange%22%5D%2C%20%22prefix%22%3A%20%22fa%22%7D%0A%20%20%20%20%20%20%20%20%20%20%20%20%29%3B%0A%20%20%20%20%20%20%20%20%20%20%20%20marker_fd36f7d1d78740e9970a30139b113c84.setIcon%28icon_15fddbb7d74e4b4fa7cafe74bbe47cce%29%3B%0A%20%20%20%20%20%20%20%20%0A%20%20%20%20%0A%20%20%20%20%20%20%20%20%20%20%20%20marker_fd36f7d1d78740e9970a30139b113c84.bindTooltip%28%0A%20%20%20%20%20%20%20%20%20%20%20%20%20%20%20%20%60%3Cdiv%3E%0A%20%20%20%20%20%20%20%20%20%20%20%20%20%20%20%20%20%20%20%20%20%3Cp%3E%E7%A8%AE%E9%A1%9E%3A%3Cp%3E%E7%B7%8A%E6%80%A5%E6%95%91%E8%AD%B7%3Cp%3E%E5%9C%B0%E5%9D%80%3A%3Cp%3E%E9%9B%B2%E6%9E%97%E7%B8%A3%E8%8E%BF%E6%A1%90%E9%84%89%E7%94%98%E5%8E%9D%E6%9D%91%0A%20%20%20%20%20%20%20%20%20%20%20%20%20%20%20%20%20%3C/div%3E%60%2C%0A%20%20%20%20%20%20%20%20%20%20%20%20%20%20%20%20%7B%22sticky%22%3A%20true%7D%0A%20%20%20%20%20%20%20%20%20%20%20%20%29%3B%0A%20%20%20%20%20%20%20%20%0A%20%20%20%20%0A%20%20%20%20%20%20%20%20%20%20%20%20var%20marker_862361a837674c2ea55165d51a01841a%20%3D%20L.marker%28%0A%20%20%20%20%20%20%20%20%20%20%20%20%20%20%20%20%5B23.568319%2C%20120.303727%5D%2C%0A%20%20%20%20%20%20%20%20%20%20%20%20%20%20%20%20%7B%7D%0A%20%20%20%20%20%20%20%20%20%20%20%20%29.addTo%28map_c9037e8109584111a3b20b7750d83dc9%29%3B%0A%20%20%20%20%20%20%20%20%0A%20%20%20%20%0A%20%20%20%20%20%20%20%20%20%20%20%20var%20icon_c3f70b729b5c41d6a78d71f2e0b2ef03%20%3D%20L.AwesomeMarkers.icon%28%0A%20%20%20%20%20%20%20%20%20%20%20%20%20%20%20%20%7B%22extraClasses%22%3A%20%22fa-rotate-0%22%2C%20%22icon%22%3A%20%22fa-ambulance%22%2C%20%22iconColor%22%3A%20%22white%22%2C%20%22markerColor%22%3A%20%5B%22orange%22%5D%2C%20%22prefix%22%3A%20%22fa%22%7D%0A%20%20%20%20%20%20%20%20%20%20%20%20%29%3B%0A%20%20%20%20%20%20%20%20%20%20%20%20marker_862361a837674c2ea55165d51a01841a.setIcon%28icon_c3f70b729b5c41d6a78d71f2e0b2ef03%29%3B%0A%20%20%20%20%20%20%20%20%0A%20%20%20%20%0A%20%20%20%20%20%20%20%20%20%20%20%20marker_862361a837674c2ea55165d51a01841a.bindTooltip%28%0A%20%20%20%20%20%20%20%20%20%20%20%20%20%20%20%20%60%3Cdiv%3E%0A%20%20%20%20%20%20%20%20%20%20%20%20%20%20%20%20%20%20%20%20%20%3Cp%3E%E7%A8%AE%E9%A1%9E%3A%3Cp%3E%E7%B7%8A%E6%80%A5%E6%95%91%E8%AD%B7%3Cp%3E%E5%9C%B0%E5%9D%80%3A%3Cp%3E%E9%9B%B2%E6%9E%97%E7%B8%A3%E5%8C%97%E6%B8%AF%E9%8E%AE%E5%8D%9A%E6%84%9B%E8%B7%AF%0A%20%20%20%20%20%20%20%20%20%20%20%20%20%20%20%20%20%3C/div%3E%60%2C%0A%20%20%20%20%20%20%20%20%20%20%20%20%20%20%20%20%7B%22sticky%22%3A%20true%7D%0A%20%20%20%20%20%20%20%20%20%20%20%20%29%3B%0A%20%20%20%20%20%20%20%20%0A%20%20%20%20%0A%20%20%20%20%20%20%20%20%20%20%20%20var%20marker_38f18fa314be44b68100a443c9e36b3a%20%3D%20L.marker%28%0A%20%20%20%20%20%20%20%20%20%20%20%20%20%20%20%20%5B23.679972%2C%20120.468515%5D%2C%0A%20%20%20%20%20%20%20%20%20%20%20%20%20%20%20%20%7B%7D%0A%20%20%20%20%20%20%20%20%20%20%20%20%29.addTo%28map_c9037e8109584111a3b20b7750d83dc9%29%3B%0A%20%20%20%20%20%20%20%20%0A%20%20%20%20%0A%20%20%20%20%20%20%20%20%20%20%20%20var%20icon_b3b1b962c13d4caca35531361c6094a9%20%3D%20L.AwesomeMarkers.icon%28%0A%20%20%20%20%20%20%20%20%20%20%20%20%20%20%20%20%7B%22extraClasses%22%3A%20%22fa-rotate-0%22%2C%20%22icon%22%3A%20%22fa-ambulance%22%2C%20%22iconColor%22%3A%20%22white%22%2C%20%22markerColor%22%3A%20%5B%22orange%22%5D%2C%20%22prefix%22%3A%20%22fa%22%7D%0A%20%20%20%20%20%20%20%20%20%20%20%20%29%3B%0A%20%20%20%20%20%20%20%20%20%20%20%20marker_38f18fa314be44b68100a443c9e36b3a.setIcon%28icon_b3b1b962c13d4caca35531361c6094a9%29%3B%0A%20%20%20%20%20%20%20%20%0A%20%20%20%20%0A%20%20%20%20%20%20%20%20%20%20%20%20marker_38f18fa314be44b68100a443c9e36b3a.bindTooltip%28%0A%20%20%20%20%20%20%20%20%20%20%20%20%20%20%20%20%60%3Cdiv%3E%0A%20%20%20%20%20%20%20%20%20%20%20%20%20%20%20%20%20%20%20%20%20%3Cp%3E%E7%A8%AE%E9%A1%9E%3A%3Cp%3E%E7%B7%8A%E6%80%A5%E6%95%91%E8%AD%B7%3Cp%3E%E5%9C%B0%E5%9D%80%3A%3Cp%3E%E9%9B%B2%E6%9E%97%E7%B8%A3%E6%96%97%E5%8D%97%E9%8E%AE%E4%B8%AD%E8%88%88%E8%B7%AF170%E5%B7%B76%E5%BC%84%0A%20%20%20%20%20%20%20%20%20%20%20%20%20%20%20%20%20%3C/div%3E%60%2C%0A%20%20%20%20%20%20%20%20%20%20%20%20%20%20%20%20%7B%22sticky%22%3A%20true%7D%0A%20%20%20%20%20%20%20%20%20%20%20%20%29%3B%0A%20%20%20%20%20%20%20%20%0A%3C/script%3E onload=\"this.contentDocument.open();this.contentDocument.write(    decodeURIComponent(this.getAttribute('data-html')));this.contentDocument.close();\" allowfullscreen webkitallowfullscreen mozallowfullscreen></iframe></div></div>"
      ],
      "text/plain": [
       "<folium.folium.Map at 0x25ed05a6490>"
      ]
     },
     "execution_count": 7,
     "metadata": {},
     "output_type": "execute_result"
    }
   ],
   "source": [
    "for lats,logs,name,type_of_case in zip(lat,log,location_name,type_case): \n",
    "        if type_of_case == \"緊急救護\": #如果類型是緊急救護則變成橘色並且有救護車圖示\n",
    "            color='orange',\n",
    "            icon='fa-ambulance'\n",
    "        elif type_of_case=='火災':  #如果類型是火災則變成紅色並且有火的圖示\n",
    "            color='red',\n",
    "            icon='fire'\n",
    "        else:  #如果類型是其他則變成綠色並且有驚嘆號圖示\n",
    "            color='green',\n",
    "            icon='exclamation'\n",
    "        html=\"\"\"<p>種類:<p>\"\"\" +type_of_case+\"\"\"<p>地址:<p>\"\"\" + name+''\"\" #將顯示資料利用html方式呈現\n",
    "        tooltip=folium.GeoJsonTooltip(fields=['地點','種類'],aliases=[name,type_of_case])\n",
    "        folium.Marker(location=[lats,logs],tooltip=html,icon=folium.Icon( icon=icon, color=color, prefix='fa')).add_to(yunlin_map) #將各地點劃記在地圖上\n",
    "yunlin_map #顯示地圖"
   ]
  },
  {
   "cell_type": "code",
   "execution_count": 8,
   "id": "6fa0e6ff",
   "metadata": {},
   "outputs": [],
   "source": [
    "map_html='map.html'\n",
    "yunlin_map.save(map_html) #存成html"
   ]
  },
  {
   "cell_type": "code",
   "execution_count": 9,
   "id": "1150d84c",
   "metadata": {},
   "outputs": [
    {
     "name": "stdout",
     "output_type": "stream",
     "text": [
      "Successfully open map.html\n"
     ]
    }
   ],
   "source": [
    "import webbrowser\n",
    "try:\n",
    "    map_file=open('map.html', 'r')\n",
    "    webbrowser.open('map.html')\n",
    "    print('Successfully open map.html')\n",
    "except Exception:\n",
    "    print('Cannot open map.html')"
   ]
  }
 ],
 "metadata": {
  "kernelspec": {
   "display_name": "Python 3",
   "language": "python",
   "name": "python3"
  },
  "language_info": {
   "codemirror_mode": {
    "name": "ipython",
    "version": 3
   },
   "file_extension": ".py",
   "mimetype": "text/x-python",
   "name": "python",
   "nbconvert_exporter": "python",
   "pygments_lexer": "ipython3",
   "version": "3.8.8"
  }
 },
 "nbformat": 4,
 "nbformat_minor": 5
}
